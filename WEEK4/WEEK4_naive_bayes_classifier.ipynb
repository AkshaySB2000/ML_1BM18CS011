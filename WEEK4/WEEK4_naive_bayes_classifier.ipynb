{
 "cells": [
  {
   "cell_type": "code",
   "execution_count": 1,
   "id": "unauthorized-exemption",
   "metadata": {
    "_cell_guid": "b1076dfc-b9ad-4769-8c92-a6c4dae69d19",
    "_uuid": "8f2839f25d086af736a60e9eeb907d3b93b6e0e5",
    "execution": {
     "iopub.execute_input": "2021-04-21T04:40:09.468015Z",
     "iopub.status.busy": "2021-04-21T04:40:09.466796Z",
     "iopub.status.idle": "2021-04-21T04:40:10.719425Z",
     "shell.execute_reply": "2021-04-21T04:40:10.719931Z"
    },
    "papermill": {
     "duration": 1.26211,
     "end_time": "2021-04-21T04:40:10.720254",
     "exception": false,
     "start_time": "2021-04-21T04:40:09.458144",
     "status": "completed"
    },
    "tags": []
   },
   "outputs": [
    {
     "name": "stdout",
     "output_type": "stream",
     "text": [
      "/kaggle/input/naive-bayes/week4_data_pima_indian.csv\n"
     ]
    }
   ],
   "source": [
    "# This Python 3 environment comes with many helpful analytics libraries installed\n",
    "# It is defined by the kaggle/python Docker image: https://github.com/kaggle/docker-python\n",
    "# For example, here's several helpful packages to load\n",
    "\n",
    "import numpy as np # linear algebra\n",
    "import pandas as pd # data processing, CSV file I/O (e.g. pd.read_csv)\n",
    "from sklearn.model_selection import train_test_split\n",
    "from sklearn.naive_bayes import GaussianNB\n",
    "from sklearn import metrics\n",
    "# Input data files are available in the read-only \"../input/\" directory\n",
    "# For example, running this (by clicking run or pressing Shift+Enter) will list all files under the input directory\n",
    "\n",
    "import os\n",
    "for dirname, _, filenames in os.walk('/kaggle/input'):\n",
    "    for filename in filenames:\n",
    "        print(os.path.join(dirname, filename))\n",
    "\n",
    "# You can write up to 20GB to the current directory (/kaggle/working/) that gets preserved as output when you create a version using \"Save & Run All\" \n",
    "# You can also write temporary files to /kaggle/temp/, but they won't be saved outside of the current session"
   ]
  },
  {
   "cell_type": "code",
   "execution_count": 2,
   "id": "collected-abuse",
   "metadata": {
    "execution": {
     "iopub.execute_input": "2021-04-21T04:40:10.737180Z",
     "iopub.status.busy": "2021-04-21T04:40:10.736273Z",
     "iopub.status.idle": "2021-04-21T04:40:10.781137Z",
     "shell.execute_reply": "2021-04-21T04:40:10.782392Z"
    },
    "papermill": {
     "duration": 0.057381,
     "end_time": "2021-04-21T04:40:10.782652",
     "exception": false,
     "start_time": "2021-04-21T04:40:10.725271",
     "status": "completed"
    },
    "tags": []
   },
   "outputs": [
    {
     "name": "stdout",
     "output_type": "stream",
     "text": [
      "<bound method NDFrame.head of      num_preg  glucose_conc  diastolic_bp  thickness  insulin   bmi  \\\n",
      "0           6           148            72         35        0  33.6   \n",
      "1           1            85            66         29        0  26.6   \n",
      "2           8           183            64          0        0  23.3   \n",
      "3           1            89            66         23       94  28.1   \n",
      "4           0           137            40         35      168  43.1   \n",
      "..        ...           ...           ...        ...      ...   ...   \n",
      "763        10           101            76         48      180  32.9   \n",
      "764         2           122            70         27        0  36.8   \n",
      "765         5           121            72         23      112  26.2   \n",
      "766         1           126            60          0        0  30.1   \n",
      "767         1            93            70         31        0  30.4   \n",
      "\n",
      "     diab_pred  age  diabetes  \n",
      "0        0.627   50         1  \n",
      "1        0.351   31         0  \n",
      "2        0.672   32         1  \n",
      "3        0.167   21         0  \n",
      "4        2.288   33         1  \n",
      "..         ...  ...       ...  \n",
      "763      0.171   63         0  \n",
      "764      0.340   27         0  \n",
      "765      0.245   30         0  \n",
      "766      0.349   47         1  \n",
      "767      0.315   23         0  \n",
      "\n",
      "[768 rows x 9 columns]>\n",
      "\n",
      "The total number of Training Data: (514, 1)\n",
      "The total number of Test Data: (254, 1)\n"
     ]
    }
   ],
   "source": [
    "df = pd.read_csv(\"../input/naive-bayes/week4_data_pima_indian.csv\")\n",
    "feature_col_names = ['num_preg', 'glucose_conc', 'diastolic_bp', 'thickness', 'insulin', 'bmi', 'diab_pred', 'age']\n",
    "predicted_class_names = ['diabetes']\n",
    "X = df[feature_col_names].values \n",
    "y = df[predicted_class_names].values\n",
    "print(df.head)\n",
    "xtrain,xtest,ytrain,ytest=train_test_split(X,y,test_size=0.33)\n",
    "print ('\\nThe total number of Training Data:',ytrain.shape)\n",
    "print ('The total number of Test Data:',ytest.shape)"
   ]
  },
  {
   "cell_type": "code",
   "execution_count": 3,
   "id": "received-interim",
   "metadata": {
    "execution": {
     "iopub.execute_input": "2021-04-21T04:40:10.801048Z",
     "iopub.status.busy": "2021-04-21T04:40:10.799826Z",
     "iopub.status.idle": "2021-04-21T04:40:10.815929Z",
     "shell.execute_reply": "2021-04-21T04:40:10.815247Z"
    },
    "papermill": {
     "duration": 0.028466,
     "end_time": "2021-04-21T04:40:10.816100",
     "exception": false,
     "start_time": "2021-04-21T04:40:10.787634",
     "status": "completed"
    },
    "tags": []
   },
   "outputs": [
    {
     "name": "stdout",
     "output_type": "stream",
     "text": [
      "\n",
      "Confusion matrix\n",
      "[[132  27]\n",
      " [ 37  58]]\n",
      "\n",
      "Accuracy of the classifier: 0.7480314960629921\n",
      "The value of Precision: 0.6823529411764706\n",
      "The value of Recall: 0.6105263157894737\n",
      "Predicted Value for individual Test Data: [1]\n"
     ]
    }
   ],
   "source": [
    "clf = GaussianNB().fit(xtrain,ytrain.ravel())\n",
    "predicted = clf.predict(xtest)\n",
    "predictTestData= clf.predict([[6,148,72,35,0,33.6,0.627,50]])\n",
    "print('\\nConfusion matrix')\n",
    "print(metrics.confusion_matrix(ytest,predicted))\n",
    "print('\\nAccuracy of the classifier:',metrics.accuracy_score(ytest,predicted))\n",
    "print('The value of Precision:', metrics.precision_score(ytest,predicted))\n",
    "print('The value of Recall:', metrics.recall_score(ytest,predicted))\n",
    "print(\"Predicted Value for individual Test Data:\", predictTestData)"
   ]
  }
 ],
 "metadata": {
  "kernelspec": {
   "display_name": "Python 3",
   "language": "python",
   "name": "python3"
  },
  "language_info": {
   "codemirror_mode": {
    "name": "ipython",
    "version": 3
   },
   "file_extension": ".py",
   "mimetype": "text/x-python",
   "name": "python",
   "nbconvert_exporter": "python",
   "pygments_lexer": "ipython3",
   "version": "3.7.9"
  },
  "papermill": {
   "default_parameters": {},
   "duration": 8.731993,
   "end_time": "2021-04-21T04:40:11.532267",
   "environment_variables": {},
   "exception": null,
   "input_path": "__notebook__.ipynb",
   "output_path": "__notebook__.ipynb",
   "parameters": {},
   "start_time": "2021-04-21T04:40:02.800274",
   "version": "2.3.2"
  }
 },
 "nbformat": 4,
 "nbformat_minor": 5
}
