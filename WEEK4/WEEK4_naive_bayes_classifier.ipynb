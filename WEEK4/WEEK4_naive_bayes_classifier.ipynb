{
 "cells": [
  {
   "cell_type": "code",
   "execution_count": 1,
   "id": "liked-muslim",
   "metadata": {
    "_cell_guid": "b1076dfc-b9ad-4769-8c92-a6c4dae69d19",
    "_uuid": "8f2839f25d086af736a60e9eeb907d3b93b6e0e5",
    "execution": {
     "iopub.execute_input": "2021-04-27T10:00:20.829275Z",
     "iopub.status.busy": "2021-04-27T10:00:20.828051Z",
     "iopub.status.idle": "2021-04-27T10:00:20.850952Z",
     "shell.execute_reply": "2021-04-27T10:00:20.850035Z"
    },
    "papermill": {
     "duration": 0.033046,
     "end_time": "2021-04-27T10:00:20.851158",
     "exception": false,
     "start_time": "2021-04-27T10:00:20.818112",
     "status": "completed"
    },
    "tags": []
   },
   "outputs": [
    {
     "name": "stdout",
     "output_type": "stream",
     "text": [
      "/kaggle/input/naive-bayes-classifier/week4_data_play_tennis.csv\n"
     ]
    }
   ],
   "source": [
    "# This Python 3 environment comes with many helpful analytics libraries installed\n",
    "# It is defined by the kaggle/python Docker image: https://github.com/kaggle/docker-python\n",
    "# For example, here's several helpful packages to load\n",
    "\n",
    "import numpy as np # linear algebra\n",
    "import pandas as pd # data processing, CSV file I/O (e.g. pd.read_csv)\n",
    "\n",
    "# Input data files are available in the read-only \"../input/\" directory\n",
    "# For example, running this (by clicking run or pressing Shift+Enter) will list all files under the input directory\n",
    "\n",
    "import os\n",
    "for dirname, _, filenames in os.walk('/kaggle/input'):\n",
    "    for filename in filenames:\n",
    "        print(os.path.join(dirname, filename))\n",
    "\n",
    "# You can write up to 20GB to the current directory (/kaggle/working/) that gets preserved as output when you create a version using \"Save & Run All\" \n",
    "# You can also write temporary files to /kaggle/temp/, but they won't be saved outside of the current session"
   ]
  },
  {
   "cell_type": "code",
   "execution_count": 2,
   "id": "overall-essence",
   "metadata": {
    "execution": {
     "iopub.execute_input": "2021-04-27T10:00:20.869381Z",
     "iopub.status.busy": "2021-04-27T10:00:20.868672Z",
     "iopub.status.idle": "2021-04-27T10:00:20.910428Z",
     "shell.execute_reply": "2021-04-27T10:00:20.909742Z"
    },
    "papermill": {
     "duration": 0.052503,
     "end_time": "2021-04-27T10:00:20.910567",
     "exception": false,
     "start_time": "2021-04-27T10:00:20.858064",
     "status": "completed"
    },
    "tags": []
   },
   "outputs": [
    {
     "data": {
      "text/html": [
       "<div>\n",
       "<style scoped>\n",
       "    .dataframe tbody tr th:only-of-type {\n",
       "        vertical-align: middle;\n",
       "    }\n",
       "\n",
       "    .dataframe tbody tr th {\n",
       "        vertical-align: top;\n",
       "    }\n",
       "\n",
       "    .dataframe thead th {\n",
       "        text-align: right;\n",
       "    }\n",
       "</style>\n",
       "<table border=\"1\" class=\"dataframe\">\n",
       "  <thead>\n",
       "    <tr style=\"text-align: right;\">\n",
       "      <th></th>\n",
       "      <th>PlayTennis</th>\n",
       "      <th>Outlook</th>\n",
       "      <th>Temperature</th>\n",
       "      <th>Humidity</th>\n",
       "      <th>Wind</th>\n",
       "    </tr>\n",
       "  </thead>\n",
       "  <tbody>\n",
       "    <tr>\n",
       "      <th>0</th>\n",
       "      <td>No</td>\n",
       "      <td>Sunny</td>\n",
       "      <td>Hot</td>\n",
       "      <td>High</td>\n",
       "      <td>Weak</td>\n",
       "    </tr>\n",
       "    <tr>\n",
       "      <th>1</th>\n",
       "      <td>No</td>\n",
       "      <td>Sunny</td>\n",
       "      <td>Hot</td>\n",
       "      <td>High</td>\n",
       "      <td>Strong</td>\n",
       "    </tr>\n",
       "    <tr>\n",
       "      <th>2</th>\n",
       "      <td>Yes</td>\n",
       "      <td>Overcast</td>\n",
       "      <td>Hot</td>\n",
       "      <td>High</td>\n",
       "      <td>Weak</td>\n",
       "    </tr>\n",
       "    <tr>\n",
       "      <th>3</th>\n",
       "      <td>Yes</td>\n",
       "      <td>Rain</td>\n",
       "      <td>Mild</td>\n",
       "      <td>High</td>\n",
       "      <td>Weak</td>\n",
       "    </tr>\n",
       "    <tr>\n",
       "      <th>4</th>\n",
       "      <td>Yes</td>\n",
       "      <td>Rain</td>\n",
       "      <td>Cool</td>\n",
       "      <td>Normal</td>\n",
       "      <td>Weak</td>\n",
       "    </tr>\n",
       "  </tbody>\n",
       "</table>\n",
       "</div>"
      ],
      "text/plain": [
       "  PlayTennis   Outlook Temperature Humidity    Wind\n",
       "0         No     Sunny         Hot     High    Weak\n",
       "1         No     Sunny         Hot     High  Strong\n",
       "2        Yes  Overcast         Hot     High    Weak\n",
       "3        Yes      Rain        Mild     High    Weak\n",
       "4        Yes      Rain        Cool   Normal    Weak"
      ]
     },
     "execution_count": 2,
     "metadata": {},
     "output_type": "execute_result"
    }
   ],
   "source": [
    "data = pd.read_csv('../input/naive-bayes-classifier/week4_data_play_tennis.csv')\n",
    "data.head()"
   ]
  },
  {
   "cell_type": "code",
   "execution_count": 3,
   "id": "scenic-ridge",
   "metadata": {
    "execution": {
     "iopub.execute_input": "2021-04-27T10:00:20.933781Z",
     "iopub.status.busy": "2021-04-27T10:00:20.933110Z",
     "iopub.status.idle": "2021-04-27T10:00:20.936227Z",
     "shell.execute_reply": "2021-04-27T10:00:20.936737Z"
    },
    "papermill": {
     "duration": 0.019303,
     "end_time": "2021-04-27T10:00:20.936921",
     "exception": false,
     "start_time": "2021-04-27T10:00:20.917618",
     "status": "completed"
    },
    "tags": []
   },
   "outputs": [
    {
     "name": "stdout",
     "output_type": "stream",
     "text": [
      "Target Values: ['No', 'No', 'Yes', 'Yes', 'Yes', 'No', 'Yes', 'No', 'Yes', 'Yes', 'Yes', 'Yes', 'Yes', 'No']\n",
      "Features: \n",
      "[['Sunny' 'Hot' 'High' 'Weak']\n",
      " ['Sunny' 'Hot' 'High' 'Strong']\n",
      " ['Overcast' 'Hot' 'High' 'Weak']\n",
      " ['Rain' 'Mild' 'High' 'Weak']\n",
      " ['Rain' 'Cool' 'Normal' 'Weak']\n",
      " ['Rain' 'Cool' 'Normal' 'Strong']\n",
      " ['Overcast' 'Cool' 'Normal' 'Strong']\n",
      " ['Sunny' 'Mild' 'High' 'Weak']\n",
      " ['Sunny' 'Cool' 'Normal' 'Weak']\n",
      " ['Rain' 'Mild' 'Normal' 'Weak']\n",
      " ['Sunny' 'Mild' 'Normal' 'Strong']\n",
      " ['Overcast' 'Mild' 'High' 'Strong']\n",
      " ['Overcast' 'Hot' 'Normal' 'Weak']\n",
      " ['Rain' 'Mild' 'High' 'Strong']]\n"
     ]
    }
   ],
   "source": [
    "y = list(data['PlayTennis'].values)\n",
    "X = data.iloc[:,1:].values\n",
    "print(f'Target Values: {y}')\n",
    "print(f'Features: \\n{X}')"
   ]
  },
  {
   "cell_type": "code",
   "execution_count": 4,
   "id": "level-astronomy",
   "metadata": {
    "execution": {
     "iopub.execute_input": "2021-04-27T10:00:20.958645Z",
     "iopub.status.busy": "2021-04-27T10:00:20.957991Z",
     "iopub.status.idle": "2021-04-27T10:00:20.961889Z",
     "shell.execute_reply": "2021-04-27T10:00:20.962524Z"
    },
    "papermill": {
     "duration": 0.018513,
     "end_time": "2021-04-27T10:00:20.962700",
     "exception": false,
     "start_time": "2021-04-27T10:00:20.944187",
     "status": "completed"
    },
    "tags": []
   },
   "outputs": [
    {
     "name": "stdout",
     "output_type": "stream",
     "text": [
      "Number of instances in training set: 8\n",
      "Number of instances in testing set: 6\n"
     ]
    }
   ],
   "source": [
    "y_train = y[:8]\n",
    "y_val = y[8:]\n",
    "X_train = X[:8]\n",
    "X_val = X[8:]\n",
    "print(f\"Number of instances in training set: {len(X_train)}\")\n",
    "print(f\"Number of instances in testing set: {len(X_val)}\")"
   ]
  },
  {
   "cell_type": "code",
   "execution_count": 5,
   "id": "better-victim",
   "metadata": {
    "execution": {
     "iopub.execute_input": "2021-04-27T10:00:20.982201Z",
     "iopub.status.busy": "2021-04-27T10:00:20.981393Z",
     "iopub.status.idle": "2021-04-27T10:00:20.994963Z",
     "shell.execute_reply": "2021-04-27T10:00:20.995499Z"
    },
    "papermill": {
     "duration": 0.025201,
     "end_time": "2021-04-27T10:00:20.995671",
     "exception": false,
     "start_time": "2021-04-27T10:00:20.970470",
     "status": "completed"
    },
    "tags": []
   },
   "outputs": [],
   "source": [
    "class NaiveBayesClassifier:   \n",
    "    def __init__(self, X, y):\n",
    "        self.X, self.y = X, y \n",
    "        self.N = len(self.X)\n",
    "        self.dim = len(self.X[0]) \n",
    "        self.attrs = [[] for _ in range(self.dim)] \n",
    "        self.output_dom = {} \n",
    "        self.data = []     \n",
    "        for i in range(len(self.X)):\n",
    "            for j in range(self.dim):\n",
    "                if not self.X[i][j] in self.attrs[j]:\n",
    "                    self.attrs[j].append(self.X[i][j])         \n",
    "            if not self.y[i] in self.output_dom.keys():\n",
    "                self.output_dom[self.y[i]] = 1\n",
    "            else:\n",
    "                self.output_dom[self.y[i]] += 1\n",
    "            self.data.append([self.X[i], self.y[i]])\n",
    "    def classify(self, entry):\n",
    "        solve = None \n",
    "        max_arg = -1\n",
    "        for y in self.output_dom.keys():\n",
    "            prob = self.output_dom[y]/self.N \n",
    "            for i in range(self.dim):\n",
    "                cases = [x for x in self.data if x[0][i] == entry[i] and x[1] == y] \n",
    "                n = len(cases)\n",
    "                prob *= n/self.N     \n",
    "            if prob > max_arg:\n",
    "                max_arg = prob\n",
    "                solve = y\n",
    "        return solve"
   ]
  },
  {
   "cell_type": "code",
   "execution_count": 6,
   "id": "declared-perfume",
   "metadata": {
    "execution": {
     "iopub.execute_input": "2021-04-27T10:00:21.017464Z",
     "iopub.status.busy": "2021-04-27T10:00:21.016673Z",
     "iopub.status.idle": "2021-04-27T10:00:21.028565Z",
     "shell.execute_reply": "2021-04-27T10:00:21.027735Z"
    },
    "papermill": {
     "duration": 0.023868,
     "end_time": "2021-04-27T10:00:21.028755",
     "exception": false,
     "start_time": "2021-04-27T10:00:21.004887",
     "status": "completed"
    },
    "tags": []
   },
   "outputs": [
    {
     "name": "stdout",
     "output_type": "stream",
     "text": [
      "Predicted values: ['No', 'Yes', 'No', 'Yes', 'Yes', 'No']\n",
      "Actual values: ['Yes', 'Yes', 'Yes', 'Yes', 'Yes', 'No']\n",
      "\n",
      "Total number of testing instances in the dataset: 6\n",
      "Number of correct predictions: 4\n",
      "Number of wrong predictions: 2\n",
      "\n",
      "Accuracy of Bayes Classifier: 0.6666666666666666\n"
     ]
    }
   ],
   "source": [
    "nbc = NaiveBayesClassifier(X_train, y_train)\n",
    "total_cases = len(y_val)\n",
    "good = 0\n",
    "bad = 0\n",
    "predictions = []\n",
    "for i in range(total_cases):\n",
    "    predict = nbc.classify(X_val[i])\n",
    "    predictions.append(predict)\n",
    "    if y_val[i] == predict:\n",
    "        good += 1\n",
    "    else:\n",
    "        bad += 1\n",
    "print('Predicted values:', predictions)\n",
    "print('Actual values:', y_val)\n",
    "print()\n",
    "print('Total number of testing instances in the dataset:', total_cases)\n",
    "print('Number of correct predictions:', good)\n",
    "print('Number of wrong predictions:', bad)\n",
    "print()\n",
    "print('Accuracy of Bayes Classifier:', good/total_cases)"
   ]
  }
 ],
 "metadata": {
  "kernelspec": {
   "display_name": "Python 3",
   "language": "python",
   "name": "python3"
  },
  "language_info": {
   "codemirror_mode": {
    "name": "ipython",
    "version": 3
   },
   "file_extension": ".py",
   "mimetype": "text/x-python",
   "name": "python",
   "nbconvert_exporter": "python",
   "pygments_lexer": "ipython3",
   "version": "3.7.10"
  },
  "papermill": {
   "default_parameters": {},
   "duration": 9.9144,
   "end_time": "2021-04-27T10:00:21.648111",
   "environment_variables": {},
   "exception": null,
   "input_path": "__notebook__.ipynb",
   "output_path": "__notebook__.ipynb",
   "parameters": {},
   "start_time": "2021-04-27T10:00:11.733711",
   "version": "2.3.3"
  }
 },
 "nbformat": 4,
 "nbformat_minor": 5
}
