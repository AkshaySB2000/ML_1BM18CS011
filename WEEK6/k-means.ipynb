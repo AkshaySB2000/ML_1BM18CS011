{
 "cells": [
  {
   "cell_type": "code",
   "execution_count": 1,
   "id": "interested-strap",
   "metadata": {
    "_cell_guid": "b1076dfc-b9ad-4769-8c92-a6c4dae69d19",
    "_uuid": "8f2839f25d086af736a60e9eeb907d3b93b6e0e5",
    "execution": {
     "iopub.execute_input": "2021-06-15T05:09:39.658009Z",
     "iopub.status.busy": "2021-06-15T05:09:39.657494Z",
     "iopub.status.idle": "2021-06-15T05:09:39.664277Z",
     "shell.execute_reply": "2021-06-15T05:09:39.663707Z",
     "shell.execute_reply.started": "2021-06-15T05:09:18.919388Z"
    },
    "papermill": {
     "duration": 0.016405,
     "end_time": "2021-06-15T05:09:39.664413",
     "exception": false,
     "start_time": "2021-06-15T05:09:39.648008",
     "status": "completed"
    },
    "tags": []
   },
   "outputs": [
    {
     "name": "stdout",
     "output_type": "stream",
     "text": [
      "/kaggle/input/k-means/iris.csv\n"
     ]
    }
   ],
   "source": [
    "# This Python 3 environment comes with many helpful analytics libraries installed\n",
    "# It is defined by the kaggle/python Docker image: https://github.com/kaggle/docker-python\n",
    "# For example, here's several helpful packages to load\n",
    "\n",
    "import math; \n",
    "import sys;\n",
    "import pandas as pd\n",
    "import numpy as np\n",
    "from random import choice\n",
    "from matplotlib import pyplot\n",
    "from random import shuffle, uniform;\n",
    "\n",
    "# Input data files are available in the read-only \"../input/\" directory\n",
    "# For example, running this (by clicking run or pressing Shift+Enter) will list all files under the input directory\n",
    "\n",
    "import os\n",
    "for dirname, _, filenames in os.walk('/kaggle/input'):\n",
    "    for filename in filenames:\n",
    "        print(os.path.join(dirname, filename))\n",
    "\n",
    "# You can write up to 20GB to the current directory (/kaggle/working/) that gets preserved as output when you create a version using \"Save & Run All\" \n",
    "# You can also write temporary files to /kaggle/temp/, but they won't be saved outside of the current session"
   ]
  },
  {
   "cell_type": "code",
   "execution_count": 2,
   "id": "artificial-valley",
   "metadata": {
    "execution": {
     "iopub.execute_input": "2021-06-15T05:09:39.691083Z",
     "iopub.status.busy": "2021-06-15T05:09:39.690503Z",
     "iopub.status.idle": "2021-06-15T05:09:39.693401Z",
     "shell.execute_reply": "2021-06-15T05:09:39.692867Z",
     "shell.execute_reply.started": "2021-06-15T05:09:18.934886Z"
    },
    "papermill": {
     "duration": 0.025372,
     "end_time": "2021-06-15T05:09:39.693531",
     "exception": false,
     "start_time": "2021-06-15T05:09:39.668159",
     "status": "completed"
    },
    "tags": []
   },
   "outputs": [],
   "source": [
    "def ReadData(fileName):\n",
    "    f = open(fileName,'r')\n",
    "    lines = f.read().splitlines()\n",
    "    f.close()\n",
    "\n",
    "    items = []\n",
    "\n",
    "    for i in range(1,len(lines)):\n",
    "        line = lines[i].split(',')\n",
    "        itemFeatures = []\n",
    "\n",
    "        for j in range(len(line)-1):\n",
    "            v = float(line[j])\n",
    "            itemFeatures.append(v)\n",
    "        items.append(itemFeatures)\n",
    "\n",
    "    shuffle(items)\n",
    "\n",
    "    return items\n",
    "\n",
    "\n",
    "def FindColMinMax(items):\n",
    "    n = len(items[0])\n",
    "    minima = [float('inf') for i in range(n)]\n",
    "    maxima = [float('-inf') -1 for i in range(n)]\n",
    "    \n",
    "    for item in items:\n",
    "        for f in range(len(item)):\n",
    "            if(item[f] < minima[f]):\n",
    "                minima[f] = item[f]\n",
    "            \n",
    "            if(item[f] > maxima[f]):\n",
    "                maxima[f] = item[f]\n",
    "\n",
    "    return minima,maxima\n",
    "\n",
    "def EuclideanDistance(x,y):\n",
    "    S = 0\n",
    "    for i in range(len(x)):\n",
    "        S += math.pow(x[i]-y[i],2)\n",
    "\n",
    "    return math.sqrt(S)\n",
    "\n",
    "def InitializeMeans(items,k,cMin,cMax):\n",
    "    f = len(items[0])\n",
    "    means = [[0 for i in range(f)] for j in range(k)]\n",
    "    \n",
    "    for mean in means:\n",
    "        for i in range(len(mean)):\n",
    "            mean[i] = uniform(cMin[i]+1,cMax[i]-1)\n",
    "\n",
    "    return means\n",
    "\n",
    "def UpdateMean(n,mean,item):\n",
    "    for i in range(len(mean)):\n",
    "        m = mean[i]\n",
    "        m = (m*(n-1)+item[i])/float(n)\n",
    "        mean[i] = round(m,3)\n",
    "    \n",
    "    return mean\n",
    "\n",
    "\n",
    "def FindClusters(means,items):\n",
    "    clusters = [[] for i in range(len(means))]\n",
    "    \n",
    "    for item in items:\n",
    "        index = Classify(means,item)\n",
    "        clusters[index].append(item)\n",
    "\n",
    "    return clusters\n",
    "\n",
    "def Classify(means,item):\n",
    "    \n",
    "    minimum = float('inf');\n",
    "    index = -1\n",
    "\n",
    "    for i in range(len(means)):\n",
    "        dis = EuclideanDistance(item,means[i])\n",
    "\n",
    "        if(dis < minimum):\n",
    "            minimum = dis\n",
    "            index = i\n",
    "    \n",
    "    return index\n",
    "\n",
    "def CalculateMeans(k,items,maxIterations=100000):\n",
    "    cMin, cMax = FindColMinMax(items)\n",
    "   \n",
    "    means = InitializeMeans(items,k,cMin,cMax)\n",
    "    \n",
    "    clusterSizes = [0 for i in range(len(means))]\n",
    "\n",
    "    belongsTo = [0 for i in range(len(items))]\n",
    "\n",
    "    for e in range(maxIterations):\n",
    "        noChange = True;\n",
    "        for i in range(len(items)):\n",
    "            item = items[i];\n",
    "            index = Classify(means,item)\n",
    "            clusterSizes[index] += 1\n",
    "            cSize = clusterSizes[index]\n",
    "            means[index] = UpdateMean(cSize,means[index],item)\n",
    "  \n",
    "            if(index != belongsTo[i]):\n",
    "                noChange = False\n",
    "            belongsTo[i] = index\n",
    "  \n",
    "        if (noChange):\n",
    "            break\n",
    "  \n",
    "    return means\n",
    "\n",
    "def CutToTwoFeatures(items,indexA,indexB):\n",
    "    n = len(items)\n",
    "    X = []\n",
    "    for i in range(n):\n",
    "        item = items[i]\n",
    "        newItem = [item[indexA],item[indexB]]\n",
    "        X.append(newItem)\n",
    "\n",
    "    return X\n",
    "        \n",
    "def PlotClusters(clusters):\n",
    "    n = len(clusters)\n",
    "    X = [[] for i in range(n)]\n",
    "\n",
    "    for i in range(n):\n",
    "        cluster = clusters[i]\n",
    "        for item in cluster:\n",
    "            X[i].append(item)\n",
    "\n",
    "    colors = ['r','b','g','c','m','y']\n",
    "\n",
    "    for x in X:\n",
    "        c = choice(colors)\n",
    "        colors.remove(c)\n",
    "\n",
    "        Xa = []\n",
    "        Xb = []\n",
    "\n",
    "        for item in x:\n",
    "            Xa.append(item[0])\n",
    "            Xb.append(item[1])\n",
    "\n",
    "        pyplot.plot(Xa,Xb,'o',color=c)\n",
    "\n",
    "    pyplot.show()"
   ]
  },
  {
   "cell_type": "code",
   "execution_count": 3,
   "id": "wrapped-profession",
   "metadata": {
    "execution": {
     "iopub.execute_input": "2021-06-15T05:09:39.705202Z",
     "iopub.status.busy": "2021-06-15T05:09:39.704645Z",
     "iopub.status.idle": "2021-06-15T05:09:39.850207Z",
     "shell.execute_reply": "2021-06-15T05:09:39.849811Z",
     "shell.execute_reply.started": "2021-06-15T05:09:18.957702Z"
    },
    "papermill": {
     "duration": 0.153408,
     "end_time": "2021-06-15T05:09:39.850357",
     "exception": false,
     "start_time": "2021-06-15T05:09:39.696949",
     "status": "completed"
    },
    "tags": []
   },
   "outputs": [
    {
     "name": "stdout",
     "output_type": "stream",
     "text": [
      "[[1.2, 0.2], [1.4, 0.2], [4.3, 1.3], [1.5, 0.4], [1.5, 0.3], [1.4, 0.2], [4.5, 1.5], [1.4, 0.3], [5.9, 2.1], [4.6, 1.5], [1.6, 0.6], [5.4, 2.1], [5.1, 1.8], [3.5, 1.0], [1.9, 0.2], [4.0, 1.2], [6.1, 2.3], [3.9, 1.2], [5.2, 2.0], [5.0, 2.0], [4.4, 1.2], [1.6, 0.2], [4.7, 1.4], [4.5, 1.6], [4.8, 1.8], [5.8, 1.6], [5.7, 2.3], [5.2, 2.3], [1.0, 0.2], [1.4, 0.3], [4.1, 1.0], [5.1, 1.6], [4.8, 1.4], [6.1, 2.5], [6.7, 2.2], [6.4, 2.0], [1.4, 0.2], [4.2, 1.3], [5.6, 1.8], [1.4, 0.2], [4.8, 1.8], [3.0, 1.1], [1.4, 0.2], [5.6, 2.4], [1.5, 0.1], [5.6, 2.1], [3.9, 1.4], [4.2, 1.3], [4.8, 1.8], [5.6, 2.2], [4.5, 1.7], [4.9, 1.8], [4.7, 1.2], [5.5, 2.1], [1.3, 0.4], [5.5, 1.8], [3.3, 1.0], [4.5, 1.5], [1.4, 0.2], [5.1, 2.3], [5.6, 1.4], [1.5, 0.2], [4.5, 1.3], [5.1, 2.4], [6.3, 1.8], [1.3, 0.2], [1.5, 0.4], [1.4, 0.2], [6.7, 2.0], [5.0, 1.5], [4.9, 1.8], [1.3, 0.2], [3.8, 1.1], [1.5, 0.2], [4.5, 1.5], [4.0, 1.3], [1.7, 0.4], [3.5, 1.0], [4.6, 1.3], [3.6, 1.3], [6.6, 2.1], [3.9, 1.1], [5.1, 2.0], [5.5, 1.8], [4.3, 1.3], [4.2, 1.2], [4.5, 1.5], [1.3, 0.2], [1.5, 0.4], [1.5, 0.2], [6.0, 1.8], [1.2, 0.2], [4.7, 1.5], [4.7, 1.4], [4.4, 1.3], [5.1, 1.9], [5.9, 2.3], [5.4, 2.3], [1.1, 0.1], [4.6, 1.4], [1.4, 0.1], [5.0, 1.9], [1.5, 0.2], [4.0, 1.3], [5.1, 1.9], [4.0, 1.0], [5.8, 1.8], [3.7, 1.0], [4.1, 1.3], [5.0, 1.7], [1.7, 0.3], [4.9, 2.0], [1.6, 0.2], [1.7, 0.5], [1.6, 0.2], [4.4, 1.4], [1.3, 0.3], [1.5, 0.1], [1.5, 0.2], [1.6, 0.2], [1.3, 0.2], [5.6, 2.4], [1.9, 0.4], [5.8, 2.2], [1.7, 0.2], [6.9, 2.3], [5.1, 1.5], [1.6, 0.4], [4.0, 1.3], [5.3, 1.9], [6.0, 2.5], [6.1, 1.9], [4.2, 1.5], [4.5, 1.5], [4.9, 1.5], [5.7, 2.1], [1.5, 0.1], [3.3, 1.0], [1.6, 0.2], [4.9, 1.5], [1.3, 0.3], [1.4, 0.3], [5.7, 2.5], [1.5, 0.2], [1.5, 0.1], [4.7, 1.6], [5.3, 2.3], [4.4, 1.4], [4.1, 1.3]]\n",
      "\n",
      "Means =  [[1.462, 0.254], [5.589, 2.038], [4.266, 1.345]]\n"
     ]
    },
    {
     "data": {
      "image/png": "[encoded data removed]",
      "text/plain": [
       "<Figure size 432x288 with 1 Axes>"
      ]
     },
     "metadata": {
      "needs_background": "light"
     },
     "output_type": "display_data"
    },
    {
     "name": "stdout",
     "output_type": "stream",
     "text": [
      "0\n"
     ]
    }
   ],
   "source": [
    "def main():\n",
    "    items = ReadData('../input/k-means/iris.csv')\n",
    "    k = 3\n",
    "    items = CutToTwoFeatures(items,2,3)\n",
    "    print(items)\n",
    "    means = CalculateMeans(k,items)\n",
    "    print(\"\\nMeans = \", means)\n",
    "\n",
    "    clusters = FindClusters(means,items)\n",
    "    \n",
    "    PlotClusters(clusters)\n",
    "    newItem = [1.5,0.2]\n",
    "    print(Classify(means,newItem))\n",
    "\n",
    "if __name__ == \"__main__\":\n",
    "    main()"
   ]
  }
 ],
 "metadata": {
  "kernelspec": {
   "display_name": "Python 3",
   "language": "python",
   "name": "python3"
  },
  "language_info": {
   "codemirror_mode": {
    "name": "ipython",
    "version": 3
   },
   "file_extension": ".py",
   "mimetype": "text/x-python",
   "name": "python",
   "nbconvert_exporter": "python",
   "pygments_lexer": "ipython3",
   "version": "3.7.9"
  },
  "papermill": {
   "default_parameters": {},
   "duration": 5.815967,
   "end_time": "2021-06-15T05:09:40.361692",
   "environment_variables": {},
   "exception": null,
   "input_path": "__notebook__.ipynb",
   "output_path": "__notebook__.ipynb",
   "parameters": {},
   "start_time": "2021-06-15T05:09:34.545725",
   "version": "2.3.2"
  }
 },
 "nbformat": 4,
 "nbformat_minor": 5
}
