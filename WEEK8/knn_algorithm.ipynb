{
 "cells": [
  {
   "cell_type": "code",
   "execution_count": 1,
   "id": "typical-salvation",
   "metadata": {
    "_cell_guid": "b1076dfc-b9ad-4769-8c92-a6c4dae69d19",
    "_uuid": "8f2839f25d086af736a60e9eeb907d3b93b6e0e5",
    "execution": {
     "iopub.execute_input": "2021-06-15T05:43:25.840671Z",
     "iopub.status.busy": "2021-06-15T05:43:25.839494Z",
     "iopub.status.idle": "2021-06-15T05:43:25.852769Z",
     "shell.execute_reply": "2021-06-15T05:43:25.852099Z",
     "shell.execute_reply.started": "2021-06-15T05:42:04.311405Z"
    },
    "papermill": {
     "duration": 0.031939,
     "end_time": "2021-06-15T05:43:25.852927",
     "exception": false,
     "start_time": "2021-06-15T05:43:25.820988",
     "status": "completed"
    },
    "tags": []
   },
   "outputs": [
    {
     "name": "stdout",
     "output_type": "stream",
     "text": [
      "/kaggle/input/knnalgo/haberman.csv\n"
     ]
    }
   ],
   "source": [
    "# This Python 3 environment comes with many helpful analytics libraries installed\n",
    "# It is defined by the kaggle/python Docker image: https://github.com/kaggle/docker-python\n",
    "# For example, here's several helpful packages to load\n",
    "\n",
    "import numpy as np # linear algebra\n",
    "import pandas as pd # data processing, CSV file I/O (e.g. pd.read_csv)\n",
    "import math\n",
    "\n",
    "# Input data files are available in the read-only \"../input/\" directory\n",
    "# For example, running this (by clicking run or pressing Shift+Enter) will list all files under the input directory\n",
    "\n",
    "import os\n",
    "for dirname, _, filenames in os.walk('/kaggle/input'):\n",
    "    for filename in filenames:\n",
    "        print(os.path.join(dirname, filename))\n",
    "\n",
    "# You can write up to 20GB to the current directory (/kaggle/working/) that gets preserved as output when you create a version using \"Save & Run All\" \n",
    "# You can also write temporary files to /kaggle/temp/, but they won't be saved outside of the current session"
   ]
  },
  {
   "cell_type": "code",
   "execution_count": 2,
   "id": "interracial-organization",
   "metadata": {
    "execution": {
     "iopub.execute_input": "2021-06-15T05:43:25.877450Z",
     "iopub.status.busy": "2021-06-15T05:43:25.876778Z",
     "iopub.status.idle": "2021-06-15T05:43:25.879963Z",
     "shell.execute_reply": "2021-06-15T05:43:25.879403Z",
     "shell.execute_reply.started": "2021-06-15T05:42:04.329670Z"
    },
    "papermill": {
     "duration": 0.017048,
     "end_time": "2021-06-15T05:43:25.880107",
     "exception": false,
     "start_time": "2021-06-15T05:43:25.863059",
     "status": "completed"
    },
    "tags": []
   },
   "outputs": [],
   "source": [
    "data = []"
   ]
  },
  {
   "cell_type": "code",
   "execution_count": 3,
   "id": "necessary-colorado",
   "metadata": {
    "execution": {
     "iopub.execute_input": "2021-06-15T05:43:25.903143Z",
     "iopub.status.busy": "2021-06-15T05:43:25.902502Z",
     "iopub.status.idle": "2021-06-15T05:43:25.913851Z",
     "shell.execute_reply": "2021-06-15T05:43:25.913321Z",
     "shell.execute_reply.started": "2021-06-15T05:42:04.336692Z"
    },
    "papermill": {
     "duration": 0.023936,
     "end_time": "2021-06-15T05:43:25.913996",
     "exception": false,
     "start_time": "2021-06-15T05:43:25.890060",
     "status": "completed"
    },
    "tags": []
   },
   "outputs": [],
   "source": [
    "with open('../input/knnalgo/haberman.csv', 'r') as f:\n",
    "    for line in f.readlines():\n",
    "        atributes = line.strip('\\n').split(',')\n",
    "        data.append([int(x) for x in atributes])"
   ]
  },
  {
   "cell_type": "code",
   "execution_count": 4,
   "id": "loved-welcome",
   "metadata": {
    "execution": {
     "iopub.execute_input": "2021-06-15T05:43:25.940871Z",
     "iopub.status.busy": "2021-06-15T05:43:25.940190Z",
     "iopub.status.idle": "2021-06-15T05:43:25.943298Z",
     "shell.execute_reply": "2021-06-15T05:43:25.942635Z",
     "shell.execute_reply.started": "2021-06-15T05:42:04.353263Z"
    },
    "papermill": {
     "duration": 0.01929,
     "end_time": "2021-06-15T05:43:25.943436",
     "exception": false,
     "start_time": "2021-06-15T05:43:25.924146",
     "status": "completed"
    },
    "tags": []
   },
   "outputs": [],
   "source": [
    "def info_dataset(data, verbose=True):\n",
    "    label1, label2 = 0, 0\n",
    "    data_size = len(data)\n",
    "    for datum in data:\n",
    "        if datum[-1] == 1:\n",
    "            label1 += 1\n",
    "        else:\n",
    "            label2 += 1\n",
    "    if verbose:\n",
    "        print('Total of samples: %d' % data_size)\n",
    "        print('Total label 1: %d' % label1)\n",
    "        print('Total label 2: %d' % label2)\n",
    "    return [len(data), label1, label2]"
   ]
  },
  {
   "cell_type": "code",
   "execution_count": 5,
   "id": "patent-fetish",
   "metadata": {
    "execution": {
     "iopub.execute_input": "2021-06-15T05:43:25.966567Z",
     "iopub.status.busy": "2021-06-15T05:43:25.965911Z",
     "iopub.status.idle": "2021-06-15T05:43:25.976586Z",
     "shell.execute_reply": "2021-06-15T05:43:25.975704Z",
     "shell.execute_reply.started": "2021-06-15T05:42:04.364711Z"
    },
    "papermill": {
     "duration": 0.023446,
     "end_time": "2021-06-15T05:43:25.976812",
     "exception": false,
     "start_time": "2021-06-15T05:43:25.953366",
     "status": "completed"
    },
    "tags": []
   },
   "outputs": [
    {
     "name": "stdout",
     "output_type": "stream",
     "text": [
      "Total of samples: 306\n",
      "Total label 1: 225\n",
      "Total label 2: 81\n"
     ]
    },
    {
     "data": {
      "text/plain": [
       "[306, 225, 81]"
      ]
     },
     "execution_count": 5,
     "metadata": {},
     "output_type": "execute_result"
    }
   ],
   "source": [
    "info_dataset(data)"
   ]
  },
  {
   "cell_type": "code",
   "execution_count": 6,
   "id": "romantic-daily",
   "metadata": {
    "execution": {
     "iopub.execute_input": "2021-06-15T05:43:26.003417Z",
     "iopub.status.busy": "2021-06-15T05:43:26.002420Z",
     "iopub.status.idle": "2021-06-15T05:43:26.005131Z",
     "shell.execute_reply": "2021-06-15T05:43:26.005668Z",
     "shell.execute_reply.started": "2021-06-15T05:42:04.387422Z"
    },
    "papermill": {
     "duration": 0.018029,
     "end_time": "2021-06-15T05:43:26.005899",
     "exception": false,
     "start_time": "2021-06-15T05:43:25.987870",
     "status": "completed"
    },
    "tags": []
   },
   "outputs": [],
   "source": [
    "p = 0.6\n",
    "_, label1, label2 = info_dataset(data,False)"
   ]
  },
  {
   "cell_type": "code",
   "execution_count": 7,
   "id": "compliant-shape",
   "metadata": {
    "execution": {
     "iopub.execute_input": "2021-06-15T05:43:26.030717Z",
     "iopub.status.busy": "2021-06-15T05:43:26.029768Z",
     "iopub.status.idle": "2021-06-15T05:43:26.036475Z",
     "shell.execute_reply": "2021-06-15T05:43:26.037068Z",
     "shell.execute_reply.started": "2021-06-15T05:42:04.396372Z"
    },
    "papermill": {
     "duration": 0.020957,
     "end_time": "2021-06-15T05:43:26.037258",
     "exception": false,
     "start_time": "2021-06-15T05:43:26.016301",
     "status": "completed"
    },
    "tags": []
   },
   "outputs": [],
   "source": [
    "train_set, test_set = [], []\n",
    "max_label1, max_label2 = int(p * label1), int(p * label2)\n",
    "total_label1, total_label2 = 0, 0\n",
    "for sample in data:\n",
    "    if (total_label1 + total_label2) < (max_label1 + max_label2):\n",
    "        train_set.append(sample)\n",
    "        if sample[-1] == 1 and total_label1 < max_label1:\n",
    "            total_label1 += 1\n",
    "        else:\n",
    "            total_label2 += 1\n",
    "    else:\n",
    "        test_set.append(sample)"
   ]
  },
  {
   "cell_type": "code",
   "execution_count": 8,
   "id": "dynamic-copper",
   "metadata": {
    "execution": {
     "iopub.execute_input": "2021-06-15T05:43:26.062038Z",
     "iopub.status.busy": "2021-06-15T05:43:26.061047Z",
     "iopub.status.idle": "2021-06-15T05:43:26.069351Z",
     "shell.execute_reply": "2021-06-15T05:43:26.069922Z",
     "shell.execute_reply.started": "2021-06-15T05:42:04.407421Z"
    },
    "papermill": {
     "duration": 0.022351,
     "end_time": "2021-06-15T05:43:26.070093",
     "exception": false,
     "start_time": "2021-06-15T05:43:26.047742",
     "status": "completed"
    },
    "tags": []
   },
   "outputs": [],
   "source": [
    "def euclidian_dist(p1, p2):\n",
    "    dim, sum_ = len(p1), 0\n",
    "    for index in range(dim - 1):\n",
    "        sum_ += math.pow(p1[index] - p2[index], 2)\n",
    "    return math.sqrt(sum_)\n",
    "def knn(train_set, new_sample, K):\n",
    "    dists, train_size = {}, len(train_set)\n",
    "    \n",
    "    for i in range(train_size):\n",
    "        d = euclidian_dist(train_set[i], new_sample)\n",
    "        dists[i] = d\n",
    "    \n",
    "    k_neighbors = sorted(dists, key=dists.get)[:K]\n",
    "    \n",
    "    qty_label1, qty_label2 = 0, 0\n",
    "    for index in k_neighbors:\n",
    "        if train_set[index][-1] == 1:\n",
    "            qty_label1 += 1\n",
    "        else:\n",
    "            qty_label2 += 1\n",
    "            \n",
    "    if qty_label1 > qty_label2:\n",
    "        return 1\n",
    "    else:\n",
    "        return 2"
   ]
  },
  {
   "cell_type": "code",
   "execution_count": 9,
   "id": "exotic-creature",
   "metadata": {
    "execution": {
     "iopub.execute_input": "2021-06-15T05:43:26.094975Z",
     "iopub.status.busy": "2021-06-15T05:43:26.093990Z",
     "iopub.status.idle": "2021-06-15T05:43:26.100388Z",
     "shell.execute_reply": "2021-06-15T05:43:26.100898Z",
     "shell.execute_reply.started": "2021-06-15T05:42:04.425664Z"
    },
    "papermill": {
     "duration": 0.020796,
     "end_time": "2021-06-15T05:43:26.101072",
     "exception": false,
     "start_time": "2021-06-15T05:43:26.080276",
     "status": "completed"
    },
    "tags": []
   },
   "outputs": [
    {
     "name": "stdout",
     "output_type": "stream",
     "text": [
      "[55, 58, 0, 1]\n",
      "1\n"
     ]
    }
   ],
   "source": [
    "print(test_set[0])\n",
    "print(knn(train_set, test_set[0], 12))"
   ]
  },
  {
   "cell_type": "code",
   "execution_count": 10,
   "id": "liquid-court",
   "metadata": {
    "execution": {
     "iopub.execute_input": "2021-06-15T05:43:26.162454Z",
     "iopub.status.busy": "2021-06-15T05:43:26.146883Z",
     "iopub.status.idle": "2021-06-15T05:43:26.181995Z",
     "shell.execute_reply": "2021-06-15T05:43:26.181260Z",
     "shell.execute_reply.started": "2021-06-15T05:42:04.563009Z"
    },
    "papermill": {
     "duration": 0.07024,
     "end_time": "2021-06-15T05:43:26.182184",
     "exception": false,
     "start_time": "2021-06-15T05:43:26.111944",
     "status": "completed"
    },
    "tags": []
   },
   "outputs": [
    {
     "name": "stdout",
     "output_type": "stream",
     "text": [
      "Train set size: 183\n",
      "Test set size: 123\n",
      "Correct predicitons: 93\n",
      "Accuracy: 50.82%\n"
     ]
    }
   ],
   "source": [
    "correct, K = 0, 15\n",
    "for sample in test_set:\n",
    "    label = knn(train_set, sample, K)\n",
    "    if sample[-1] == label:\n",
    "        correct += 1\n",
    "print(\"Train set size: %d\" % len(train_set))\n",
    "print(\"Test set size: %d\" % len(test_set))\n",
    "print(\"Correct predicitons: %d\" % correct)\n",
    "print(\"Accuracy: %.2f%%\" % (100 * correct / len(train_set)))"
   ]
  }
 ],
 "metadata": {
  "kernelspec": {
   "display_name": "Python 3",
   "language": "python",
   "name": "python3"
  },
  "language_info": {
   "codemirror_mode": {
    "name": "ipython",
    "version": 3
   },
   "file_extension": ".py",
   "mimetype": "text/x-python",
   "name": "python",
   "nbconvert_exporter": "python",
   "pygments_lexer": "ipython3",
   "version": "3.7.9"
  },
  "papermill": {
   "default_parameters": {},
   "duration": 7.431547,
   "end_time": "2021-06-15T05:43:26.804330",
   "environment_variables": {},
   "exception": null,
   "input_path": "__notebook__.ipynb",
   "output_path": "__notebook__.ipynb",
   "parameters": {},
   "start_time": "2021-06-15T05:43:19.372783",
   "version": "2.3.2"
  }
 },
 "nbformat": 4,
 "nbformat_minor": 5
}
