{
 "cells": [
  {
   "cell_type": "code",
   "execution_count": 1,
   "metadata": {
    "_cell_guid": "b1076dfc-b9ad-4769-8c92-a6c4dae69d19",
    "_uuid": "8f2839f25d086af736a60e9eeb907d3b93b6e0e5",
    "execution": {
     "iopub.execute_input": "2021-03-16T10:11:44.917020Z",
     "iopub.status.busy": "2021-03-16T10:11:44.915980Z",
     "iopub.status.idle": "2021-03-16T10:11:44.936677Z",
     "shell.execute_reply": "2021-03-16T10:11:44.937433Z"
    },
    "papermill": {
     "duration": 0.029126,
     "end_time": "2021-03-16T10:11:44.937869",
     "exception": false,
     "start_time": "2021-03-16T10:11:44.908743",
     "status": "completed"
    },
    "tags": []
   },
   "outputs": [
    {
     "name": "stdout",
     "output_type": "stream",
     "text": [
      "/kaggle/input/akshaysb2k/find-s.csv\n",
      "/kaggle/input/finds/data.csv\n"
     ]
    }
   ],
   "source": [
    "# This Python 3 environment comes with many helpful analytics libraries installed\n",
    "# It is defined by the kaggle/python Docker image: https://github.com/kaggle/docker-python\n",
    "# For example, here's several helpful packages to load\n",
    "\n",
    "import numpy as np # linear algebra\n",
    "import pandas as pd # data processing, CSV file I/O (e.g. pd.read_csv)\n",
    "\n",
    "# Input data files are available in the read-only \"../input/\" directory\n",
    "# For example, running this (by clicking run or pressing Shift+Enter) will list all files under the input directory\n",
    "\n",
    "import os\n",
    "for dirname, _, filenames in os.walk('/kaggle/input'):\n",
    "    for filename in filenames:\n",
    "        print(os.path.join(dirname, filename))\n",
    "\n",
    "# You can write up to 20GB to the current directory (/kaggle/working/) that gets preserved as output when you create a version using \"Save & Run All\" \n",
    "# You can also write temporary files to /kaggle/temp/, but they won't be saved outside of the current session"
   ]
  },
  {
   "cell_type": "code",
   "execution_count": 2,
   "metadata": {
    "execution": {
     "iopub.execute_input": "2021-03-16T10:11:44.957329Z",
     "iopub.status.busy": "2021-03-16T10:11:44.956590Z",
     "iopub.status.idle": "2021-03-16T10:11:44.988632Z",
     "shell.execute_reply": "2021-03-16T10:11:44.989199Z"
    },
    "papermill": {
     "duration": 0.045997,
     "end_time": "2021-03-16T10:11:44.989394",
     "exception": false,
     "start_time": "2021-03-16T10:11:44.943397",
     "status": "completed"
    },
    "tags": []
   },
   "outputs": [
    {
     "name": "stdout",
     "output_type": "stream",
     "text": [
      "The entered data is \n",
      "\n",
      "  Weather Temperature Humidity Goes\n",
      "0  Sunny        Warm      Mild  Yes\n",
      "1   Rainy        Cold     Mild   No\n",
      "2  Sunny     Moderate    Nomal  Yes\n",
      "3  Sunny         Cold    High   Yes \n",
      "\n",
      "\n",
      " The attributes are: \n",
      " [['Sunny ' 'Warm ' 'Mild']\n",
      " ['Rainy' 'Cold' 'Mild']\n",
      " ['Sunny ' 'Moderate' 'Nomal']\n",
      " ['Sunny ' 'Cold' 'High ']]\n",
      "\n",
      " The target is:  ['Yes' 'No' 'Yes' 'Yes']\n",
      "\n",
      " The final hypothesis is: ['Sunny ' '?' '?']\n"
     ]
    }
   ],
   "source": [
    "data = pd.read_csv(\"/kaggle/input/finds/data.csv\")\n",
    "print(\"The entered data is \\n\")\n",
    "print(data,\"\\n\")\n",
    "d = np.array(data)[:,:-1]\n",
    "print(\"\\n The attributes are: \\n\",d)\n",
    "target = np.array(data)[:,-1]\n",
    "print(\"\\n The target is: \",target)\n",
    "def training(c,t):\n",
    "    for i, val in enumerate(t):\n",
    "        if val == \"Yes\":\n",
    "            specific_hypothesis = c[i].copy()\n",
    "            break          \n",
    "    for i, val in enumerate(c):\n",
    "        if t[i] == \"Yes\":\n",
    "            for x in range(len(specific_hypothesis)):\n",
    "                if val[x] != specific_hypothesis[x]:\n",
    "                    specific_hypothesis[x] = '?'\n",
    "                else:\n",
    "                    pass\n",
    "    return specific_hypothesis\n",
    "print(\"\\n The final hypothesis is:\",training(d,target))\n",
    "    \n",
    "    "
   ]
  }
 ],
 "metadata": {
  "kernelspec": {
   "display_name": "Python 3",
   "language": "python",
   "name": "python3"
  },
  "language_info": {
   "codemirror_mode": {
    "name": "ipython",
    "version": 3
   },
   "file_extension": ".py",
   "mimetype": "text/x-python",
   "name": "python",
   "nbconvert_exporter": "python",
   "pygments_lexer": "ipython3",
   "version": "3.7.9"
  },
  "papermill": {
   "default_parameters": {},
   "duration": 6.364999,
   "end_time": "2021-03-16T10:11:45.602444",
   "environment_variables": {},
   "exception": null,
   "input_path": "__notebook__.ipynb",
   "output_path": "__notebook__.ipynb",
   "parameters": {},
   "start_time": "2021-03-16T10:11:39.237445",
   "version": "2.2.2"
  }
 },
 "nbformat": 4,
 "nbformat_minor": 4
}
