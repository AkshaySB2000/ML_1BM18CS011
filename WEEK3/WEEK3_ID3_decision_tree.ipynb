{
 "cells": [
  {
   "cell_type": "code",
   "execution_count": 1,
   "id": "substantial-banner",
   "metadata": {
    "_cell_guid": "b1076dfc-b9ad-4769-8c92-a6c4dae69d19",
    "_uuid": "8f2839f25d086af736a60e9eeb907d3b93b6e0e5",
    "execution": {
     "iopub.execute_input": "2021-04-12T11:24:49.975348Z",
     "iopub.status.busy": "2021-04-12T11:24:49.974793Z",
     "iopub.status.idle": "2021-04-12T11:24:49.990497Z",
     "shell.execute_reply": "2021-04-12T11:24:49.990926Z"
    },
    "papermill": {
     "duration": 0.024194,
     "end_time": "2021-04-12T11:24:49.991249",
     "exception": false,
     "start_time": "2021-04-12T11:24:49.967055",
     "status": "completed"
    },
    "tags": []
   },
   "outputs": [
    {
     "name": "stdout",
     "output_type": "stream",
     "text": [
      "/kaggle/input/id3-algorithm/week3_data.csv\n"
     ]
    }
   ],
   "source": [
    "# This Python 3 environment comes with many helpful analytics libraries installed\n",
    "# It is defined by the kaggle/python Docker image: https://github.com/kaggle/docker-python\n",
    "# For example, here's several helpful packages to load\n",
    "\n",
    "import numpy as np # linear algebra\n",
    "import pandas as pd # data processing, CSV file I/O (e.g. pd.read_csv)\n",
    "import math\n",
    "\n",
    "# Input data files are available in the read-only \"../input/\" directory\n",
    "# For example, running this (by clicking run or pressing Shift+Enter) will list all files under the input directory\n",
    "\n",
    "import os\n",
    "for dirname, _, filenames in os.walk('/kaggle/input'):\n",
    "    for filename in filenames:\n",
    "        print(os.path.join(dirname, filename))\n",
    "\n",
    "# You can write up to 20GB to the current directory (/kaggle/working/) that gets preserved as output when you create a version using \"Save & Run All\" \n",
    "# You can also write temporary files to /kaggle/temp/, but they won't be saved outside of the current session"
   ]
  },
  {
   "cell_type": "code",
   "execution_count": 2,
   "id": "nervous-basement",
   "metadata": {
    "execution": {
     "iopub.execute_input": "2021-04-12T11:24:50.002488Z",
     "iopub.status.busy": "2021-04-12T11:24:50.001798Z",
     "iopub.status.idle": "2021-04-12T11:24:50.027940Z",
     "shell.execute_reply": "2021-04-12T11:24:50.027288Z"
    },
    "papermill": {
     "duration": 0.032497,
     "end_time": "2021-04-12T11:24:50.028078",
     "exception": false,
     "start_time": "2021-04-12T11:24:49.995581",
     "status": "completed"
    },
    "tags": []
   },
   "outputs": [],
   "source": [
    "data = pd.read_csv(\"../input/id3-algorithm/week3_data.csv\")\n",
    "features = [feat for feat in data]\n",
    "features.remove(\"answer\")\n",
    "class Node:\n",
    "    def __init__(self):\n",
    "        self.children = []\n",
    "        self.value = \"\"\n",
    "        self.isLeaf = False\n",
    "        self.pred = \"\"\n",
    "def entropy(examples):\n",
    "    pos = 0.0\n",
    "    neg = 0.0\n",
    "    for _, row in examples.iterrows():\n",
    "        if row[\"answer\"] == \"yes\":\n",
    "            pos += 1\n",
    "        else:\n",
    "            neg += 1\n",
    "    if pos == 0.0 or neg == 0.0:\n",
    "        return 0.0\n",
    "    else:\n",
    "        p = pos / (pos + neg)\n",
    "        n = neg / (pos + neg)\n",
    "        return -(p * math.log(p, 2) + n * math.log(n, 2))\n",
    "def info_gain(examples, attr):\n",
    "    uniq = np.unique(examples[attr])\n",
    "    #print (\"\\n\",uniq)\n",
    "    gain = entropy(examples)\n",
    "    #print (\"\\n\",gain)\n",
    "    for u in uniq:\n",
    "        subdata = examples[examples[attr] == u]\n",
    "        #print (\"\\n\",subdata)\n",
    "        sub_e = entropy(subdata)\n",
    "        gain -= (float(len(subdata)) / float(len(examples))) * sub_e\n",
    "        #print (\"\\n\",gain)\n",
    "    return gain\n",
    "def ID3(examples, attrs):\n",
    "    root = Node()\n",
    "    max_gain = 0\n",
    "    max_feat = \"\"\n",
    "    for feature in attrs:\n",
    "        #print (\"\\n\",examples)\n",
    "        gain = info_gain(examples, feature)\n",
    "        if gain > max_gain:\n",
    "            max_gain = gain\n",
    "            max_feat = feature\n",
    "    root.value = max_feat\n",
    "    #print (\"\\nMax feature attr\",max_feat)\n",
    "    uniq = np.unique(examples[max_feat])\n",
    "    #print (\"\\n\",uniq)\n",
    "    for u in uniq:\n",
    "        #print (\"\\n\",u)\n",
    "        subdata = examples[examples[max_feat] == u]\n",
    "        #print (\"\\n\",subdata)\n",
    "        if entropy(subdata) == 0.0:\n",
    "            newNode = Node()\n",
    "            newNode.isLeaf = True\n",
    "            newNode.value = u\n",
    "            newNode.pred = np.unique(subdata[\"answer\"])\n",
    "            root.children.append(newNode)\n",
    "        else:\n",
    "            dummyNode = Node()\n",
    "            dummyNode.value = u\n",
    "            new_attrs = attrs.copy()\n",
    "            new_attrs.remove(max_feat)\n",
    "            child = ID3(subdata, new_attrs)\n",
    "            dummyNode.children.append(child)\n",
    "            root.children.append(dummyNode)\n",
    "    return root\n",
    "def printTree(root: Node, depth=0):\n",
    "    for i in range(depth):\n",
    "        print(\"\\t\", end=\"\")\n",
    "    print(root.value, end=\"\")\n",
    "    if root.isLeaf:\n",
    "        print(\" -> \", root.pred)\n",
    "    print()\n",
    "    for child in root.children:\n",
    "        printTree(child, depth + 1)"
   ]
  },
  {
   "cell_type": "code",
   "execution_count": 3,
   "id": "celtic-frost",
   "metadata": {
    "execution": {
     "iopub.execute_input": "2021-04-12T11:24:50.085688Z",
     "iopub.status.busy": "2021-04-12T11:24:50.084711Z",
     "iopub.status.idle": "2021-04-12T11:24:50.093907Z",
     "shell.execute_reply": "2021-04-12T11:24:50.092944Z"
    },
    "papermill": {
     "duration": 0.062631,
     "end_time": "2021-04-12T11:24:50.094272",
     "exception": false,
     "start_time": "2021-04-12T11:24:50.031641",
     "status": "completed"
    },
    "tags": []
   },
   "outputs": [
    {
     "name": "stdout",
     "output_type": "stream",
     "text": [
      "outlook\n",
      "\tovercast ->  ['yes']\n",
      "\n",
      "\train\n",
      "\t\twind\n",
      "\t\t\tstrong ->  ['no']\n",
      "\n",
      "\t\t\tweak ->  ['yes']\n",
      "\n",
      "\tsunny\n",
      "\t\thumidity\n",
      "\t\t\thigh ->  ['no']\n",
      "\n",
      "\t\t\tnormal ->  ['yes']\n",
      "\n"
     ]
    }
   ],
   "source": [
    "root = ID3(data, features)\n",
    "printTree(root)"
   ]
  }
 ],
 "metadata": {
  "kernelspec": {
   "display_name": "Python 3",
   "language": "python",
   "name": "python3"
  },
  "language_info": {
   "codemirror_mode": {
    "name": "ipython",
    "version": 3
   },
   "file_extension": ".py",
   "mimetype": "text/x-python",
   "name": "python",
   "nbconvert_exporter": "python",
   "pygments_lexer": "ipython3",
   "version": "3.7.9"
  },
  "papermill": {
   "default_parameters": {},
   "duration": 6.362049,
   "end_time": "2021-04-12T11:24:50.708997",
   "environment_variables": {},
   "exception": null,
   "input_path": "__notebook__.ipynb",
   "output_path": "__notebook__.ipynb",
   "parameters": {},
   "start_time": "2021-04-12T11:24:44.346948",
   "version": "2.3.2"
  }
 },
 "nbformat": 4,
 "nbformat_minor": 5
}
