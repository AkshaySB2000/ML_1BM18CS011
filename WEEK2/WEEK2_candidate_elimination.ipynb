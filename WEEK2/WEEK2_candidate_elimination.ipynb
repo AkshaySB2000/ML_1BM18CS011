{
 "cells": [
  {
   "cell_type": "code",
   "execution_count": 1,
   "metadata": {
    "_cell_guid": "b1076dfc-b9ad-4769-8c92-a6c4dae69d19",
    "_uuid": "8f2839f25d086af736a60e9eeb907d3b93b6e0e5",
    "execution": {
     "iopub.execute_input": "2021-03-30T09:57:33.840033Z",
     "iopub.status.busy": "2021-03-30T09:57:33.839227Z",
     "iopub.status.idle": "2021-03-30T09:57:33.857102Z",
     "shell.execute_reply": "2021-03-30T09:57:33.856396Z"
    },
    "papermill": {
     "duration": 0.027154,
     "end_time": "2021-03-30T09:57:33.857316",
     "exception": false,
     "start_time": "2021-03-30T09:57:33.830162",
     "status": "completed"
    },
    "tags": []
   },
   "outputs": [
    {
     "name": "stdout",
     "output_type": "stream",
     "text": [
      "/kaggle/input/candidate-elimination/week2_data.csv\n"
     ]
    }
   ],
   "source": [
    "# This Python 3 environment comes with many helpful analytics libraries installed\n",
    "# It is defined by the kaggle/python Docker image: https://github.com/kaggle/docker-python\n",
    "# For example, here's several helpful packages to load\n",
    "\n",
    "import numpy as np # linear algebra\n",
    "import pandas as pd # data processing, CSV file I/O (e.g. pd.read_csv)\n",
    "\n",
    "# Input data files are available in the read-only \"../input/\" directory\n",
    "# For example, running this (by clicking run or pressing Shift+Enter) will list all files under the input directory\n",
    "\n",
    "import os\n",
    "for dirname, _, filenames in os.walk('/kaggle/input'):\n",
    "    for filename in filenames:\n",
    "        print(os.path.join(dirname, filename))\n",
    "\n",
    "# You can write up to 20GB to the current directory (/kaggle/working/) that gets preserved as output when you create a version using \"Save & Run All\" \n",
    "# You can also write temporary files to /kaggle/temp/, but they won't be saved outside of the current session"
   ]
  },
  {
   "cell_type": "code",
   "execution_count": 2,
   "metadata": {
    "execution": {
     "iopub.execute_input": "2021-03-30T09:57:33.874864Z",
     "iopub.status.busy": "2021-03-30T09:57:33.874101Z",
     "iopub.status.idle": "2021-03-30T09:57:33.914867Z",
     "shell.execute_reply": "2021-03-30T09:57:33.914277Z"
    },
    "papermill": {
     "duration": 0.052551,
     "end_time": "2021-03-30T09:57:33.915027",
     "exception": false,
     "start_time": "2021-03-30T09:57:33.862476",
     "status": "completed"
    },
    "tags": []
   },
   "outputs": [
    {
     "name": "stdout",
     "output_type": "stream",
     "text": [
      "The entered data is: \n",
      "\n",
      "     Sky Temperature   Humid    Wind Water  Forest Output\n",
      "0  Sunny        Warm  Normal  Strong  Warm    Same    Yes\n",
      "1  Sunny        Warm    High  Strong  Warm    Same    Yes\n",
      "2  Rainy        Cold    High  Strong  Warm  Change     No\n",
      "3  Sunny        Warm    High  Strong  Cool  Change    Yes \n",
      "\n",
      "\n",
      "The attributes are: \n",
      "[['Sunny' 'Warm' 'Normal' 'Strong' 'Warm' 'Same']\n",
      " ['Sunny' 'Warm' 'High' 'Strong' 'Warm' 'Same']\n",
      " ['Rainy' 'Cold' 'High' 'Strong' 'Warm' 'Change']\n",
      " ['Sunny' 'Warm' 'High' 'Strong' 'Cool' 'Change']]\n",
      "\n",
      "The target is: \n",
      "['Yes' 'Yes' 'No' 'Yes']\n"
     ]
    }
   ],
   "source": [
    "data = pd.read_csv(\"../input/candidate-elimination/week2_data.csv\")\n",
    "print(\"The entered data is: \\n\")\n",
    "print(data,\"\\n\")\n",
    "atts = np.array(data.iloc[:,:-1])\n",
    "target = np.array(data.iloc[:,-1])\n",
    "print(\"\\nThe attributes are: \")\n",
    "print(atts)\n",
    "print(\"\\nThe target is: \")\n",
    "print(target)"
   ]
  },
  {
   "cell_type": "code",
   "execution_count": 3,
   "metadata": {
    "execution": {
     "iopub.execute_input": "2021-03-30T09:57:33.937458Z",
     "iopub.status.busy": "2021-03-30T09:57:33.933788Z",
     "iopub.status.idle": "2021-03-30T09:57:33.940294Z",
     "shell.execute_reply": "2021-03-30T09:57:33.940830Z"
    },
    "papermill": {
     "duration": 0.021032,
     "end_time": "2021-03-30T09:57:33.941016",
     "exception": false,
     "start_time": "2021-03-30T09:57:33.919984",
     "status": "completed"
    },
    "tags": []
   },
   "outputs": [],
   "source": [
    "def learn(atts, target):\n",
    "    s = atts[0].copy()\n",
    "    print(\"\\nSpecific Hypothesis: \\n\",s)\n",
    "    g = [[\"?\" for i in range(len(s))] for i in range(len(s))]\n",
    "    print(\"\\nGeneral Hypothesis: \\n\",g)\n",
    "    for i, h in enumerate(atts):\n",
    "        if target[i] == \"Yes\":\n",
    "            print(\"\\nPositive Example\")\n",
    "            for x in range(len(s)):\n",
    "                if h[x] != s[x]:\n",
    "                    s[x] = '?'\n",
    "                    g[x][x] = '?'\n",
    "        if target[i] == \"No\":\n",
    "            print(\"\\nNegative Example\")\n",
    "            for x in range(len(s)):\n",
    "                if h[x] != s[x]:\n",
    "                    g[x][x] = s[x]\n",
    "                else:\n",
    "                    g[x][x] = '?'\n",
    "        print(\"Step: \", i+1)\n",
    "        print(\"Specific Hypothesis: \")\n",
    "        print(s)\n",
    "        print(\"General Hypothesis : \")\n",
    "        print(g)\n",
    "    indices = [i for i, val in enumerate(g) if val == ['?', '?', '?', '?', '?', '?']]\n",
    "    for i in indices:\n",
    "        g.remove(['?', '?', '?', '?', '?', '?'])\n",
    "    return s, g"
   ]
  },
  {
   "cell_type": "code",
   "execution_count": 4,
   "metadata": {
    "execution": {
     "iopub.execute_input": "2021-03-30T09:57:33.958624Z",
     "iopub.status.busy": "2021-03-30T09:57:33.957814Z",
     "iopub.status.idle": "2021-03-30T09:57:33.962987Z",
     "shell.execute_reply": "2021-03-30T09:57:33.964344Z"
    },
    "papermill": {
     "duration": 0.018742,
     "end_time": "2021-03-30T09:57:33.964701",
     "exception": false,
     "start_time": "2021-03-30T09:57:33.945959",
     "status": "completed"
    },
    "tags": []
   },
   "outputs": [
    {
     "name": "stdout",
     "output_type": "stream",
     "text": [
      "\n",
      "Specific Hypothesis: \n",
      " ['Sunny' 'Warm' 'Normal' 'Strong' 'Warm' 'Same']\n",
      "\n",
      "General Hypothesis: \n",
      " [['?', '?', '?', '?', '?', '?'], ['?', '?', '?', '?', '?', '?'], ['?', '?', '?', '?', '?', '?'], ['?', '?', '?', '?', '?', '?'], ['?', '?', '?', '?', '?', '?'], ['?', '?', '?', '?', '?', '?']]\n",
      "\n",
      "Positive Example\n",
      "Step:  1\n",
      "Specific Hypothesis: \n",
      "['Sunny' 'Warm' 'Normal' 'Strong' 'Warm' 'Same']\n",
      "General Hypothesis : \n",
      "[['?', '?', '?', '?', '?', '?'], ['?', '?', '?', '?', '?', '?'], ['?', '?', '?', '?', '?', '?'], ['?', '?', '?', '?', '?', '?'], ['?', '?', '?', '?', '?', '?'], ['?', '?', '?', '?', '?', '?']]\n",
      "\n",
      "Positive Example\n",
      "Step:  2\n",
      "Specific Hypothesis: \n",
      "['Sunny' 'Warm' '?' 'Strong' 'Warm' 'Same']\n",
      "General Hypothesis : \n",
      "[['?', '?', '?', '?', '?', '?'], ['?', '?', '?', '?', '?', '?'], ['?', '?', '?', '?', '?', '?'], ['?', '?', '?', '?', '?', '?'], ['?', '?', '?', '?', '?', '?'], ['?', '?', '?', '?', '?', '?']]\n",
      "\n",
      "Negative Example\n",
      "Step:  3\n",
      "Specific Hypothesis: \n",
      "['Sunny' 'Warm' '?' 'Strong' 'Warm' 'Same']\n",
      "General Hypothesis : \n",
      "[['Sunny', '?', '?', '?', '?', '?'], ['?', 'Warm', '?', '?', '?', '?'], ['?', '?', '?', '?', '?', '?'], ['?', '?', '?', '?', '?', '?'], ['?', '?', '?', '?', '?', '?'], ['?', '?', '?', '?', '?', 'Same']]\n",
      "\n",
      "Positive Example\n",
      "Step:  4\n",
      "Specific Hypothesis: \n",
      "['Sunny' 'Warm' '?' 'Strong' '?' '?']\n",
      "General Hypothesis : \n",
      "[['Sunny', '?', '?', '?', '?', '?'], ['?', 'Warm', '?', '?', '?', '?'], ['?', '?', '?', '?', '?', '?'], ['?', '?', '?', '?', '?', '?'], ['?', '?', '?', '?', '?', '?'], ['?', '?', '?', '?', '?', '?']]\n",
      "\n",
      "Final Specific Hypothesis:\n",
      "['Sunny' 'Warm' '?' 'Strong' '?' '?']\n",
      "\n",
      "Final General Hypothesis:\n",
      "[['Sunny', '?', '?', '?', '?', '?'], ['?', 'Warm', '?', '?', '?', '?']]\n"
     ]
    }
   ],
   "source": [
    "s_final,g_final = learn(atts, target)\n",
    "print(\"\\nFinal Specific Hypothesis:\", s_final, sep=\"\\n\")\n",
    "print(\"\\nFinal General Hypothesis:\", g_final, sep=\"\\n\")"
   ]
  }
 ],
 "metadata": {
  "kernelspec": {
   "display_name": "Python 3",
   "language": "python",
   "name": "python3"
  },
  "language_info": {
   "codemirror_mode": {
    "name": "ipython",
    "version": 3
   },
   "file_extension": ".py",
   "mimetype": "text/x-python",
   "name": "python",
   "nbconvert_exporter": "python",
   "pygments_lexer": "ipython3",
   "version": "3.7.9"
  },
  "papermill": {
   "default_parameters": {},
   "duration": 7.933233,
   "end_time": "2021-03-30T09:57:34.783174",
   "environment_variables": {},
   "exception": null,
   "input_path": "__notebook__.ipynb",
   "output_path": "__notebook__.ipynb",
   "parameters": {},
   "start_time": "2021-03-30T09:57:26.849941",
   "version": "2.2.2"
  }
 },
 "nbformat": 4,
 "nbformat_minor": 4
}
